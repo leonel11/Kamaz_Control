{
 "cells": [
  {
   "cell_type": "code",
   "execution_count": 1,
   "metadata": {},
   "outputs": [],
   "source": [
    "import os\n",
    "import re\n",
    "import shutil\n",
    "from PIL import Image, ImageDraw\n",
    "import numpy as np"
   ]
  },
  {
   "cell_type": "code",
   "execution_count": 2,
   "metadata": {},
   "outputs": [],
   "source": [
    "FRAMES = 'C:\\\\_Repositories\\\\Kamaz_Control\\\\data\\\\train_'\n",
    "MARKING = 'C:\\\\_Repositories\\\\Kamaz_Control\\\\data\\\\_marked_files'"
   ]
  },
  {
   "cell_type": "code",
   "execution_count": 3,
   "metadata": {},
   "outputs": [],
   "source": [
    "jpg_folders = []\n",
    "for root, _, files in os.walk(FRAMES):\n",
    "    for file in files:\n",
    "        if file.endswith('.jpg'):\n",
    "            s = os.path.dirname(os.path.join(root, file))\n",
    "            if not s in jpg_folders:\n",
    "                jpg_folders.append(s)"
   ]
  },
  {
   "cell_type": "code",
   "execution_count": 4,
   "metadata": {},
   "outputs": [],
   "source": [
    "SELECTION_FRAMES = 'C:\\\\_Repositories\\\\Kamaz_Control\\\\data\\\\selection\\\\frames'\n",
    "SELECTION_MARKING = 'C:\\\\_Repositories\\\\Kamaz_Control\\\\data\\\\selection\\\\marks'\n",
    "SELECTION_VISIALIZATION = 'C:\\\\_Repositories\\\\Kamaz_Control\\\\data\\\\selection\\\\visualization'"
   ]
  },
  {
   "cell_type": "code",
   "execution_count": 5,
   "metadata": {},
   "outputs": [],
   "source": [
    "def create_embedded_folder(path_to_dir):\n",
    "    if not os.path.exists(path_to_dir):\n",
    "        os.makedirs(path_to_dir)"
   ]
  },
  {
   "cell_type": "code",
   "execution_count": 6,
   "metadata": {},
   "outputs": [],
   "source": [
    "create_embedded_folder(SELECTION_FRAMES)\n",
    "create_embedded_folder(SELECTION_MARKING)\n",
    "create_embedded_folder(SELECTION_VISIALIZATION)"
   ]
  },
  {
   "cell_type": "code",
   "execution_count": 7,
   "metadata": {},
   "outputs": [],
   "source": [
    "def get_all_files(data_path, format_file):\n",
    "    res = []\n",
    "    for root, _, files in os.walk(data_path):\n",
    "        for file in files:\n",
    "            if file.endswith(format_file):\n",
    "                 res.append(file)\n",
    "    return res"
   ]
  },
  {
   "cell_type": "code",
   "execution_count": 8,
   "metadata": {},
   "outputs": [],
   "source": [
    "def get_class_number(marked_file):\n",
    "    if marked_file.find('ekranturb') >= 0:\n",
    "        return 'ekranturb', '0'\n",
    "        #return '0'\n",
    "    if marked_file.find('kkomp') >= 0:\n",
    "        return 'kkomp', '1'\n",
    "        #return '1'\n",
    "    if marked_file.find('kol') >= 0:\n",
    "        return 'kol', '2'\n",
    "        #return '2'\n",
    "    if marked_file.find('krysh') >= 0:\n",
    "        return 'krysh', '3'\n",
    "        #return '3'\n",
    "    if marked_file.find('perehodnik') >= 0:\n",
    "        return 'perehodnik', '4'\n",
    "        #return '4'\n",
    "    if marked_file.find('pod') >= 0:\n",
    "        return 'pod', '5'\n",
    "        #return '5'\n",
    "    if marked_file.find('turbokompressor') >= 0:\n",
    "        return 'turbokompressor', '7'\n",
    "        #return '7'\n",
    "    if marked_file.find('turb') >= 0:\n",
    "        return 'turb', '6'\n",
    "        #return '6'\n",
    "    if marked_file.find('usel') >= 0:\n",
    "        return 'usel', '8'\n",
    "        #return '8'\n",
    "    if marked_file.find('val') >= 0:\n",
    "        return 'val', '9'\n",
    "        #return '9'\n",
    "    return ''"
   ]
  },
  {
   "cell_type": "code",
   "execution_count": 9,
   "metadata": {},
   "outputs": [],
   "source": [
    "def xml_content(folder_name, file_name, class_number, x1, y1, x2, y2):\n",
    "    return '<?xml version=\"1.0\" encoding=\"utf-8\"?>\\n'  + \\\n",
    "           '<annotation>\\n' + \\\n",
    "           '  <folder>VOC0712</folder>\\n' + \\\n",
    "           '  <filename>{}</filename>\\n'.format(file_name) + \\\n",
    "           '  <source>\\n' + \\\n",
    "           '    <database>KAMAZ Database</database>\\n' + \\\n",
    "           '    <annotation>KAMAZ</annotation>\\n' + \\\n",
    "           '    <image>flickr</image>\\n' + \\\n",
    "           '    <flickrid>0</flickrid>\\n' + \\\n",
    "           '  </source>\\n' + \\\n",
    "           '  <owner>\\n' + \\\n",
    "           '    <flickrid>Unspecified</flickrid>\\n' + \\\n",
    "           '    <name>Unspecified</name>\\n' + \\\n",
    "           '  </owner>\\n' + \\\n",
    "           '  <size>\\n' + \\\n",
    "           '    <width>1920</width>\\n' + \\\n",
    "           '    <height>1080</height>\\n' + \\\n",
    "           '    <depth>3</depth>\\n' + \\\n",
    "           '  </size>\\n' + \\\n",
    "           '  <segmented>0</segmented>\\n' + \\\n",
    "           '  <object>\\n' + \\\n",
    "           '    <name>{}</name>\\n'.format(class_number) + \\\n",
    "           '    <pose>Unspecified</pose>\\n' + \\\n",
    "           '    <truncated>0</truncated>\\n' + \\\n",
    "           '    <difficult>0</difficult>\\n' + \\\n",
    "           '    <bndbox>\\n' + \\\n",
    "           '      <xmin>{}</xmin>\\n'.format(x1) + \\\n",
    "           '      <ymin>{}</ymin>\\n'.format(y1) + \\\n",
    "           '      <xmax>{}</xmax>\\n'.format(x2) + \\\n",
    "           '      <ymax>{}</ymax>\\n'.format(y2) + \\\n",
    "           '    </bndbox>\\n' + \\\n",
    "           '  </object>\\n' + \\\n",
    "           '</annotation>'"
   ]
  },
  {
   "cell_type": "code",
   "execution_count": 10,
   "metadata": {},
   "outputs": [],
   "source": [
    "def create_marking_xml(filename, foldername, framename, class_number, coords):\n",
    "    with open(filename, 'w') as output_file:\n",
    "        str_data = xml_content(foldername, framename, class_number, coords[0], coords[1], coords[2], coords[3])\n",
    "        output_file.write(str_data)"
   ]
  },
  {
   "cell_type": "code",
   "execution_count": 11,
   "metadata": {},
   "outputs": [],
   "source": [
    "def create_marking_picture(file_pic, coords, marked_file):\n",
    "    img = Image.open(file_pic)\n",
    "    draw = ImageDraw.Draw(img)\n",
    "    draw.rectangle(coords, outline='red')\n",
    "    img.save(marked_file)"
   ]
  },
  {
   "cell_type": "code",
   "execution_count": 12,
   "metadata": {},
   "outputs": [],
   "source": [
    "for jpg_folder in jpg_folders:\n",
    "    pics = get_all_files(jpg_folder, '.jpg')\n",
    "    txt_filename = 'marked_' + re.sub('\\.', '', str.lower(os.path.basename(jpg_folder))) + '.txt'\n",
    "    txt_file = os.path.join(MARKING, txt_filename)\n",
    "    marks = np.loadtxt(txt_file, dtype=int, delimiter=' ')\n",
    "    for i in range(len(pics)):\n",
    "        jpg_file = pics[i]\n",
    "        coords = list(marks[i, :])\n",
    "        class_name, class_number = get_class_number(txt_file)\n",
    "        video_number = '{:0>2}'.format(int(re.sub('[^0-9]', '', txt_filename)))\n",
    "        file_name = '{}_{}_{}'.format(class_number, video_number, jpg_file.split('.')[0])\n",
    "        src_file = os.path.join(jpg_folder, jpg_file)\n",
    "        dst_file = os.path.join(SELECTION_FRAMES, file_name + '.jpg')\n",
    "        #shutil.copyfile(src_file, dst_file)\n",
    "        xml_file = os.path.join(SELECTION_MARKING, file_name + '.xml')\n",
    "        create_marking_xml(xml_file, os.path.basename(SELECTION_FRAMES), file_name + '.jpg', class_name, coords)\n",
    "        marked_file = os.path.join(SELECTION_VISIALIZATION, file_name + '.jpg')\n",
    "        #create_marking_picture(src_file, coords, marked_file)"
   ]
  }
 ],
 "metadata": {
  "kernelspec": {
   "display_name": "Python 3",
   "language": "python",
   "name": "python3"
  },
  "language_info": {
   "codemirror_mode": {
    "name": "ipython",
    "version": 3
   },
   "file_extension": ".py",
   "mimetype": "text/x-python",
   "name": "python",
   "nbconvert_exporter": "python",
   "pygments_lexer": "ipython3",
   "version": "3.6.4"
  }
 },
 "nbformat": 4,
 "nbformat_minor": 2
}
