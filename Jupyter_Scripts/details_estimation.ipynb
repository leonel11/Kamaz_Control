{
 "cells": [
  {
   "cell_type": "code",
   "execution_count": 1,
   "metadata": {
    "collapsed": true
   },
   "outputs": [],
   "source": [
    "import pandas as pd\n",
    "import os\n",
    "import re"
   ]
  },
  {
   "cell_type": "code",
   "execution_count": 2,
   "metadata": {
    "collapsed": true
   },
   "outputs": [],
   "source": [
    "DATA_PATH = 'C:\\\\_Repositories\\\\Kamaz_Control\\\\data\\\\train.part1\\\\train'\n",
    "PIC_WIDTH = 1920\n",
    "PIC_HEIGHT = 1020"
   ]
  },
  {
   "cell_type": "code",
   "execution_count": 3,
   "metadata": {
    "collapsed": true
   },
   "outputs": [],
   "source": [
    "txt_files = []"
   ]
  },
  {
   "cell_type": "code",
   "execution_count": 4,
   "metadata": {
    "collapsed": true
   },
   "outputs": [],
   "source": [
    "# извлечение всех txt-файлов с данными о детектированных деталях\n",
    "for root, _, files in os.walk(DATA_PATH):\n",
    "    for file in files:\n",
    "        if file.endswith(\".txt\"):\n",
    "             txt_files.append(os.path.join(root, file))"
   ]
  },
  {
   "cell_type": "code",
   "execution_count": 5,
   "metadata": {
    "collapsed": true
   },
   "outputs": [],
   "source": [
    "# таблица с информацией о деталях\n",
    "columns = ['detail', 'number', 'x1', 'y1', 'x2', 'y2', 'width', 'height', 'part_width', 'part_height', 'part_square']\n",
    "details_table = pd.DataFrame(columns=columns)"
   ]
  },
  {
   "cell_type": "code",
   "execution_count": 6,
   "metadata": {
    "collapsed": true
   },
   "outputs": [],
   "source": [
    "def prune_float(numb):\n",
    "    return float('{:.4f}'.format(numb))"
   ]
  },
  {
   "cell_type": "code",
   "execution_count": 7,
   "metadata": {},
   "outputs": [],
   "source": [
    "# составление таблицы\n",
    "for path_to_txt in txt_files:\n",
    "    txt_name = os.path.splitext(os.path.basename(path_to_txt))[0]\n",
    "    detail = re.sub('\\d', '', txt_name)\n",
    "    number = int(re.sub('[^0-9]', '', txt_name))\n",
    "    with open(path_to_txt, 'r') as f:\n",
    "        f.readline()\n",
    "        data = f.readline()\n",
    "        x1, y1, x2, y2 = map(int, data.split())\n",
    "    width, height = x2-x1, y2-y1\n",
    "    part_width, part_height = prune_float(width/PIC_WIDTH), prune_float(height/PIC_HEIGHT)\n",
    "    part_square = prune_float(part_width*part_height)\n",
    "    details_table.loc[len(details_table)]=[detail, number, x1, y1, x2, y2, width, height, part_width, part_height, part_square]"
   ]
  },
  {
   "cell_type": "code",
   "execution_count": 8,
   "metadata": {},
   "outputs": [
    {
     "data": {
      "text/html": [
       "<div>\n",
       "<style>\n",
       "    .dataframe thead tr:only-child th {\n",
       "        text-align: right;\n",
       "    }\n",
       "\n",
       "    .dataframe thead th {\n",
       "        text-align: left;\n",
       "    }\n",
       "\n",
       "    .dataframe tbody tr th {\n",
       "        vertical-align: top;\n",
       "    }\n",
       "</style>\n",
       "<table border=\"1\" class=\"dataframe\">\n",
       "  <thead>\n",
       "    <tr style=\"text-align: right;\">\n",
       "      <th></th>\n",
       "      <th>detail</th>\n",
       "      <th>number</th>\n",
       "      <th>x1</th>\n",
       "      <th>y1</th>\n",
       "      <th>x2</th>\n",
       "      <th>y2</th>\n",
       "      <th>width</th>\n",
       "      <th>height</th>\n",
       "      <th>part_width</th>\n",
       "      <th>part_height</th>\n",
       "      <th>part_square</th>\n",
       "    </tr>\n",
       "  </thead>\n",
       "  <tbody>\n",
       "    <tr>\n",
       "      <th>0</th>\n",
       "      <td>kol</td>\n",
       "      <td>1</td>\n",
       "      <td>801</td>\n",
       "      <td>488</td>\n",
       "      <td>1182</td>\n",
       "      <td>849</td>\n",
       "      <td>381</td>\n",
       "      <td>361</td>\n",
       "      <td>0.1984</td>\n",
       "      <td>0.3539</td>\n",
       "      <td>0.0702</td>\n",
       "    </tr>\n",
       "    <tr>\n",
       "      <th>1</th>\n",
       "      <td>kol</td>\n",
       "      <td>10</td>\n",
       "      <td>556</td>\n",
       "      <td>212</td>\n",
       "      <td>874</td>\n",
       "      <td>588</td>\n",
       "      <td>318</td>\n",
       "      <td>376</td>\n",
       "      <td>0.1656</td>\n",
       "      <td>0.3686</td>\n",
       "      <td>0.0610</td>\n",
       "    </tr>\n",
       "    <tr>\n",
       "      <th>2</th>\n",
       "      <td>kol</td>\n",
       "      <td>2</td>\n",
       "      <td>704</td>\n",
       "      <td>269</td>\n",
       "      <td>973</td>\n",
       "      <td>690</td>\n",
       "      <td>269</td>\n",
       "      <td>421</td>\n",
       "      <td>0.1401</td>\n",
       "      <td>0.4127</td>\n",
       "      <td>0.0578</td>\n",
       "    </tr>\n",
       "    <tr>\n",
       "      <th>3</th>\n",
       "      <td>kol</td>\n",
       "      <td>3</td>\n",
       "      <td>762</td>\n",
       "      <td>138</td>\n",
       "      <td>1202</td>\n",
       "      <td>556</td>\n",
       "      <td>440</td>\n",
       "      <td>418</td>\n",
       "      <td>0.2292</td>\n",
       "      <td>0.4098</td>\n",
       "      <td>0.0939</td>\n",
       "    </tr>\n",
       "    <tr>\n",
       "      <th>4</th>\n",
       "      <td>kol</td>\n",
       "      <td>4</td>\n",
       "      <td>539</td>\n",
       "      <td>136</td>\n",
       "      <td>1040</td>\n",
       "      <td>615</td>\n",
       "      <td>501</td>\n",
       "      <td>479</td>\n",
       "      <td>0.2609</td>\n",
       "      <td>0.4696</td>\n",
       "      <td>0.1225</td>\n",
       "    </tr>\n",
       "    <tr>\n",
       "      <th>5</th>\n",
       "      <td>kol</td>\n",
       "      <td>5</td>\n",
       "      <td>681</td>\n",
       "      <td>8</td>\n",
       "      <td>1167</td>\n",
       "      <td>446</td>\n",
       "      <td>486</td>\n",
       "      <td>438</td>\n",
       "      <td>0.2531</td>\n",
       "      <td>0.4294</td>\n",
       "      <td>0.1087</td>\n",
       "    </tr>\n",
       "    <tr>\n",
       "      <th>6</th>\n",
       "      <td>kol</td>\n",
       "      <td>6</td>\n",
       "      <td>747</td>\n",
       "      <td>30</td>\n",
       "      <td>1207</td>\n",
       "      <td>465</td>\n",
       "      <td>460</td>\n",
       "      <td>435</td>\n",
       "      <td>0.2396</td>\n",
       "      <td>0.4265</td>\n",
       "      <td>0.1022</td>\n",
       "    </tr>\n",
       "    <tr>\n",
       "      <th>7</th>\n",
       "      <td>kol</td>\n",
       "      <td>7</td>\n",
       "      <td>605</td>\n",
       "      <td>337</td>\n",
       "      <td>1041</td>\n",
       "      <td>741</td>\n",
       "      <td>436</td>\n",
       "      <td>404</td>\n",
       "      <td>0.2271</td>\n",
       "      <td>0.3961</td>\n",
       "      <td>0.0900</td>\n",
       "    </tr>\n",
       "    <tr>\n",
       "      <th>8</th>\n",
       "      <td>kol</td>\n",
       "      <td>8</td>\n",
       "      <td>818</td>\n",
       "      <td>227</td>\n",
       "      <td>1116</td>\n",
       "      <td>515</td>\n",
       "      <td>298</td>\n",
       "      <td>288</td>\n",
       "      <td>0.1552</td>\n",
       "      <td>0.2824</td>\n",
       "      <td>0.0438</td>\n",
       "    </tr>\n",
       "    <tr>\n",
       "      <th>9</th>\n",
       "      <td>kol</td>\n",
       "      <td>9</td>\n",
       "      <td>716</td>\n",
       "      <td>254</td>\n",
       "      <td>1154</td>\n",
       "      <td>638</td>\n",
       "      <td>438</td>\n",
       "      <td>384</td>\n",
       "      <td>0.2281</td>\n",
       "      <td>0.3765</td>\n",
       "      <td>0.0859</td>\n",
       "    </tr>\n",
       "    <tr>\n",
       "      <th>10</th>\n",
       "      <td>Kkomp</td>\n",
       "      <td>1</td>\n",
       "      <td>562</td>\n",
       "      <td>8</td>\n",
       "      <td>1224</td>\n",
       "      <td>951</td>\n",
       "      <td>662</td>\n",
       "      <td>943</td>\n",
       "      <td>0.3448</td>\n",
       "      <td>0.9245</td>\n",
       "      <td>0.3188</td>\n",
       "    </tr>\n",
       "  </tbody>\n",
       "</table>\n",
       "</div>"
      ],
      "text/plain": [
       "   detail number   x1   y1    x2   y2 width height  part_width  part_height  \\\n",
       "0     kol      1  801  488  1182  849   381    361      0.1984       0.3539   \n",
       "1     kol     10  556  212   874  588   318    376      0.1656       0.3686   \n",
       "2     kol      2  704  269   973  690   269    421      0.1401       0.4127   \n",
       "3     kol      3  762  138  1202  556   440    418      0.2292       0.4098   \n",
       "4     kol      4  539  136  1040  615   501    479      0.2609       0.4696   \n",
       "5     kol      5  681    8  1167  446   486    438      0.2531       0.4294   \n",
       "6     kol      6  747   30  1207  465   460    435      0.2396       0.4265   \n",
       "7     kol      7  605  337  1041  741   436    404      0.2271       0.3961   \n",
       "8     kol      8  818  227  1116  515   298    288      0.1552       0.2824   \n",
       "9     kol      9  716  254  1154  638   438    384      0.2281       0.3765   \n",
       "10  Kkomp      1  562    8  1224  951   662    943      0.3448       0.9245   \n",
       "\n",
       "    part_square  \n",
       "0        0.0702  \n",
       "1        0.0610  \n",
       "2        0.0578  \n",
       "3        0.0939  \n",
       "4        0.1225  \n",
       "5        0.1087  \n",
       "6        0.1022  \n",
       "7        0.0900  \n",
       "8        0.0438  \n",
       "9        0.0859  \n",
       "10       0.3188  "
      ]
     },
     "execution_count": 8,
     "metadata": {},
     "output_type": "execute_result"
    }
   ],
   "source": [
    "details_table.head(11)"
   ]
  },
  {
   "cell_type": "code",
   "execution_count": 9,
   "metadata": {},
   "outputs": [
    {
     "data": {
      "text/plain": [
       "(100, 11)"
      ]
     },
     "execution_count": 9,
     "metadata": {},
     "output_type": "execute_result"
    }
   ],
   "source": [
    "details_table.shape"
   ]
  },
  {
   "cell_type": "code",
   "execution_count": 10,
   "metadata": {
    "collapsed": true
   },
   "outputs": [],
   "source": [
    "details_table.to_csv('details_extimation.csv')"
   ]
  },
  {
   "cell_type": "code",
   "execution_count": 11,
   "metadata": {},
   "outputs": [
    {
     "data": {
      "text/plain": [
       "detail\n",
       "Ekranturb          10\n",
       "Kkomp              10\n",
       "Perehodnik         10\n",
       "Pod                10\n",
       "Turb               10\n",
       "kol                10\n",
       "krysh              10\n",
       "turbokompressor    10\n",
       "usel               10\n",
       "val                10\n",
       "dtype: int64"
      ]
     },
     "execution_count": 11,
     "metadata": {},
     "output_type": "execute_result"
    }
   ],
   "source": [
    "details_table.groupby('detail').size()"
   ]
  },
  {
   "cell_type": "code",
   "execution_count": 12,
   "metadata": {},
   "outputs": [
    {
     "data": {
      "text/html": [
       "<div>\n",
       "<style>\n",
       "    .dataframe thead tr:only-child th {\n",
       "        text-align: right;\n",
       "    }\n",
       "\n",
       "    .dataframe thead th {\n",
       "        text-align: left;\n",
       "    }\n",
       "\n",
       "    .dataframe tbody tr th {\n",
       "        vertical-align: top;\n",
       "    }\n",
       "</style>\n",
       "<table border=\"1\" class=\"dataframe\">\n",
       "  <thead>\n",
       "    <tr>\n",
       "      <th></th>\n",
       "      <th colspan=\"2\" halign=\"left\">width</th>\n",
       "      <th colspan=\"2\" halign=\"left\">height</th>\n",
       "    </tr>\n",
       "    <tr>\n",
       "      <th></th>\n",
       "      <th>min</th>\n",
       "      <th>max</th>\n",
       "      <th>min</th>\n",
       "      <th>max</th>\n",
       "    </tr>\n",
       "    <tr>\n",
       "      <th>detail</th>\n",
       "      <th></th>\n",
       "      <th></th>\n",
       "      <th></th>\n",
       "      <th></th>\n",
       "    </tr>\n",
       "  </thead>\n",
       "  <tbody>\n",
       "    <tr>\n",
       "      <th>Ekranturb</th>\n",
       "      <td>144</td>\n",
       "      <td>597</td>\n",
       "      <td>359</td>\n",
       "      <td>588</td>\n",
       "    </tr>\n",
       "    <tr>\n",
       "      <th>Kkomp</th>\n",
       "      <td>284</td>\n",
       "      <td>983</td>\n",
       "      <td>331</td>\n",
       "      <td>943</td>\n",
       "    </tr>\n",
       "    <tr>\n",
       "      <th>Perehodnik</th>\n",
       "      <td>209</td>\n",
       "      <td>563</td>\n",
       "      <td>130</td>\n",
       "      <td>430</td>\n",
       "    </tr>\n",
       "    <tr>\n",
       "      <th>Pod</th>\n",
       "      <td>465</td>\n",
       "      <td>749</td>\n",
       "      <td>452</td>\n",
       "      <td>699</td>\n",
       "    </tr>\n",
       "    <tr>\n",
       "      <th>Turb</th>\n",
       "      <td>348</td>\n",
       "      <td>945</td>\n",
       "      <td>396</td>\n",
       "      <td>707</td>\n",
       "    </tr>\n",
       "    <tr>\n",
       "      <th>kol</th>\n",
       "      <td>269</td>\n",
       "      <td>501</td>\n",
       "      <td>288</td>\n",
       "      <td>479</td>\n",
       "    </tr>\n",
       "    <tr>\n",
       "      <th>krysh</th>\n",
       "      <td>330</td>\n",
       "      <td>852</td>\n",
       "      <td>422</td>\n",
       "      <td>679</td>\n",
       "    </tr>\n",
       "    <tr>\n",
       "      <th>turbokompressor</th>\n",
       "      <td>575</td>\n",
       "      <td>874</td>\n",
       "      <td>554</td>\n",
       "      <td>803</td>\n",
       "    </tr>\n",
       "    <tr>\n",
       "      <th>usel</th>\n",
       "      <td>713</td>\n",
       "      <td>1074</td>\n",
       "      <td>453</td>\n",
       "      <td>674</td>\n",
       "    </tr>\n",
       "    <tr>\n",
       "      <th>val</th>\n",
       "      <td>880</td>\n",
       "      <td>1213</td>\n",
       "      <td>350</td>\n",
       "      <td>531</td>\n",
       "    </tr>\n",
       "  </tbody>\n",
       "</table>\n",
       "</div>"
      ],
      "text/plain": [
       "                width       height     \n",
       "                  min   max    min  max\n",
       "detail                                 \n",
       "Ekranturb         144   597    359  588\n",
       "Kkomp             284   983    331  943\n",
       "Perehodnik        209   563    130  430\n",
       "Pod               465   749    452  699\n",
       "Turb              348   945    396  707\n",
       "kol               269   501    288  479\n",
       "krysh             330   852    422  679\n",
       "turbokompressor   575   874    554  803\n",
       "usel              713  1074    453  674\n",
       "val               880  1213    350  531"
      ]
     },
     "execution_count": 12,
     "metadata": {},
     "output_type": "execute_result"
    }
   ],
   "source": [
    "details_size = details_table[['detail', 'width', 'height']].groupby('detail').agg(['min', 'max'])\n",
    "details_size"
   ]
  },
  {
   "cell_type": "code",
   "execution_count": 13,
   "metadata": {},
   "outputs": [],
   "source": [
    "details_table[['detail', 'width', 'height']].groupby('detail').agg(['min', 'max']).to_csv('details_size.csv')"
   ]
  },
  {
   "cell_type": "code",
   "execution_count": null,
   "metadata": {
    "collapsed": true
   },
   "outputs": [],
   "source": []
  }
 ],
 "metadata": {
  "kernelspec": {
   "display_name": "Python 3",
   "language": "python",
   "name": "python3"
  },
  "language_info": {
   "codemirror_mode": {
    "name": "ipython",
    "version": 3
   },
   "file_extension": ".py",
   "mimetype": "text/x-python",
   "name": "python",
   "nbconvert_exporter": "python",
   "pygments_lexer": "ipython3",
   "version": "3.6.1"
  }
 },
 "nbformat": 4,
 "nbformat_minor": 2
}
