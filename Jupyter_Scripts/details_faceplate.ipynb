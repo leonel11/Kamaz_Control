{
 "cells": [
  {
   "cell_type": "code",
   "execution_count": 1,
   "metadata": {},
   "outputs": [],
   "source": [
    "import os"
   ]
  },
  {
   "cell_type": "code",
   "execution_count": 2,
   "metadata": {},
   "outputs": [],
   "source": [
    "DATA_PATH = 'C:\\\\_Repositories\\\\Kamaz_Control\\\\data\\\\train'"
   ]
  },
  {
   "cell_type": "code",
   "execution_count": 3,
   "metadata": {},
   "outputs": [],
   "source": [
    "txt_files = []"
   ]
  },
  {
   "cell_type": "code",
   "execution_count": 4,
   "metadata": {},
   "outputs": [],
   "source": [
    "# извлечение всех txt-файлов с данными о детектированных деталях\n",
    "for root, _, files in os.walk(DATA_PATH):\n",
    "    for file in files:\n",
    "        if file.endswith(\".txt\"):\n",
    "             txt_files.append(os.path.join(root, file))"
   ]
  },
  {
   "cell_type": "code",
   "execution_count": 5,
   "metadata": {},
   "outputs": [
    {
     "data": {
      "text/plain": [
       "['C:\\\\_Repositories\\\\Kamaz_Control\\\\data\\\\train\\\\Ekranturb\\\\Ekranturb1.txt',\n",
       " 'C:\\\\_Repositories\\\\Kamaz_Control\\\\data\\\\train\\\\Ekranturb\\\\Ekranturb10.txt',\n",
       " 'C:\\\\_Repositories\\\\Kamaz_Control\\\\data\\\\train\\\\Ekranturb\\\\Ekranturb2.txt',\n",
       " 'C:\\\\_Repositories\\\\Kamaz_Control\\\\data\\\\train\\\\Ekranturb\\\\Ekranturb3.txt',\n",
       " 'C:\\\\_Repositories\\\\Kamaz_Control\\\\data\\\\train\\\\Ekranturb\\\\Ekranturb4.txt',\n",
       " 'C:\\\\_Repositories\\\\Kamaz_Control\\\\data\\\\train\\\\Ekranturb\\\\Ekranturb5.txt',\n",
       " 'C:\\\\_Repositories\\\\Kamaz_Control\\\\data\\\\train\\\\Ekranturb\\\\Ekranturb6.txt',\n",
       " 'C:\\\\_Repositories\\\\Kamaz_Control\\\\data\\\\train\\\\Ekranturb\\\\Ekranturb7.txt',\n",
       " 'C:\\\\_Repositories\\\\Kamaz_Control\\\\data\\\\train\\\\Ekranturb\\\\Ekranturb8.txt',\n",
       " 'C:\\\\_Repositories\\\\Kamaz_Control\\\\data\\\\train\\\\Ekranturb\\\\Ekranturb9.txt',\n",
       " 'C:\\\\_Repositories\\\\Kamaz_Control\\\\data\\\\train\\\\Kkomp\\\\Kkomp1.txt',\n",
       " 'C:\\\\_Repositories\\\\Kamaz_Control\\\\data\\\\train\\\\Kkomp\\\\Kkomp10.txt',\n",
       " 'C:\\\\_Repositories\\\\Kamaz_Control\\\\data\\\\train\\\\Kkomp\\\\Kkomp2.txt',\n",
       " 'C:\\\\_Repositories\\\\Kamaz_Control\\\\data\\\\train\\\\Kkomp\\\\Kkomp3.txt',\n",
       " 'C:\\\\_Repositories\\\\Kamaz_Control\\\\data\\\\train\\\\Kkomp\\\\Kkomp4.txt',\n",
       " 'C:\\\\_Repositories\\\\Kamaz_Control\\\\data\\\\train\\\\Kkomp\\\\Kkomp5.txt',\n",
       " 'C:\\\\_Repositories\\\\Kamaz_Control\\\\data\\\\train\\\\Kkomp\\\\Kkomp6.txt',\n",
       " 'C:\\\\_Repositories\\\\Kamaz_Control\\\\data\\\\train\\\\Kkomp\\\\Kkomp7.txt',\n",
       " 'C:\\\\_Repositories\\\\Kamaz_Control\\\\data\\\\train\\\\Kkomp\\\\Kkomp8.txt',\n",
       " 'C:\\\\_Repositories\\\\Kamaz_Control\\\\data\\\\train\\\\Kkomp\\\\Kkomp9.txt',\n",
       " 'C:\\\\_Repositories\\\\Kamaz_Control\\\\data\\\\train\\\\Kol\\\\kol1.txt',\n",
       " 'C:\\\\_Repositories\\\\Kamaz_Control\\\\data\\\\train\\\\Kol\\\\kol10.txt',\n",
       " 'C:\\\\_Repositories\\\\Kamaz_Control\\\\data\\\\train\\\\Kol\\\\kol2.txt',\n",
       " 'C:\\\\_Repositories\\\\Kamaz_Control\\\\data\\\\train\\\\Kol\\\\kol3.txt',\n",
       " 'C:\\\\_Repositories\\\\Kamaz_Control\\\\data\\\\train\\\\Kol\\\\kol4.txt',\n",
       " 'C:\\\\_Repositories\\\\Kamaz_Control\\\\data\\\\train\\\\Kol\\\\kol5.txt',\n",
       " 'C:\\\\_Repositories\\\\Kamaz_Control\\\\data\\\\train\\\\Kol\\\\kol6.txt',\n",
       " 'C:\\\\_Repositories\\\\Kamaz_Control\\\\data\\\\train\\\\Kol\\\\kol7.txt',\n",
       " 'C:\\\\_Repositories\\\\Kamaz_Control\\\\data\\\\train\\\\Kol\\\\kol8.txt',\n",
       " 'C:\\\\_Repositories\\\\Kamaz_Control\\\\data\\\\train\\\\Kol\\\\kol9.txt',\n",
       " 'C:\\\\_Repositories\\\\Kamaz_Control\\\\data\\\\train\\\\Krysh\\\\krysh1.txt',\n",
       " 'C:\\\\_Repositories\\\\Kamaz_Control\\\\data\\\\train\\\\Krysh\\\\krysh10.txt',\n",
       " 'C:\\\\_Repositories\\\\Kamaz_Control\\\\data\\\\train\\\\Krysh\\\\krysh2.txt',\n",
       " 'C:\\\\_Repositories\\\\Kamaz_Control\\\\data\\\\train\\\\Krysh\\\\krysh3.txt',\n",
       " 'C:\\\\_Repositories\\\\Kamaz_Control\\\\data\\\\train\\\\Krysh\\\\krysh4.txt',\n",
       " 'C:\\\\_Repositories\\\\Kamaz_Control\\\\data\\\\train\\\\Krysh\\\\krysh5.txt',\n",
       " 'C:\\\\_Repositories\\\\Kamaz_Control\\\\data\\\\train\\\\Krysh\\\\krysh6.txt',\n",
       " 'C:\\\\_Repositories\\\\Kamaz_Control\\\\data\\\\train\\\\Krysh\\\\krysh7.txt',\n",
       " 'C:\\\\_Repositories\\\\Kamaz_Control\\\\data\\\\train\\\\Krysh\\\\krysh8.txt',\n",
       " 'C:\\\\_Repositories\\\\Kamaz_Control\\\\data\\\\train\\\\Krysh\\\\krysh9.txt',\n",
       " 'C:\\\\_Repositories\\\\Kamaz_Control\\\\data\\\\train\\\\Perehodnik\\\\Perehodnik1.txt',\n",
       " 'C:\\\\_Repositories\\\\Kamaz_Control\\\\data\\\\train\\\\Perehodnik\\\\Perehodnik10.txt',\n",
       " 'C:\\\\_Repositories\\\\Kamaz_Control\\\\data\\\\train\\\\Perehodnik\\\\Perehodnik2.txt',\n",
       " 'C:\\\\_Repositories\\\\Kamaz_Control\\\\data\\\\train\\\\Perehodnik\\\\Perehodnik3.txt',\n",
       " 'C:\\\\_Repositories\\\\Kamaz_Control\\\\data\\\\train\\\\Perehodnik\\\\Perehodnik4.txt',\n",
       " 'C:\\\\_Repositories\\\\Kamaz_Control\\\\data\\\\train\\\\Perehodnik\\\\Perehodnik5.txt',\n",
       " 'C:\\\\_Repositories\\\\Kamaz_Control\\\\data\\\\train\\\\Perehodnik\\\\Perehodnik6.txt',\n",
       " 'C:\\\\_Repositories\\\\Kamaz_Control\\\\data\\\\train\\\\Perehodnik\\\\Perehodnik7.txt',\n",
       " 'C:\\\\_Repositories\\\\Kamaz_Control\\\\data\\\\train\\\\Perehodnik\\\\Perehodnik8.txt',\n",
       " 'C:\\\\_Repositories\\\\Kamaz_Control\\\\data\\\\train\\\\Perehodnik\\\\Perehodnik9.txt',\n",
       " 'C:\\\\_Repositories\\\\Kamaz_Control\\\\data\\\\train\\\\Pod\\\\Pod1.txt',\n",
       " 'C:\\\\_Repositories\\\\Kamaz_Control\\\\data\\\\train\\\\Pod\\\\Pod10.txt',\n",
       " 'C:\\\\_Repositories\\\\Kamaz_Control\\\\data\\\\train\\\\Pod\\\\Pod2.txt',\n",
       " 'C:\\\\_Repositories\\\\Kamaz_Control\\\\data\\\\train\\\\Pod\\\\Pod3.txt',\n",
       " 'C:\\\\_Repositories\\\\Kamaz_Control\\\\data\\\\train\\\\Pod\\\\Pod4.txt',\n",
       " 'C:\\\\_Repositories\\\\Kamaz_Control\\\\data\\\\train\\\\Pod\\\\Pod5.txt',\n",
       " 'C:\\\\_Repositories\\\\Kamaz_Control\\\\data\\\\train\\\\Pod\\\\Pod6.txt',\n",
       " 'C:\\\\_Repositories\\\\Kamaz_Control\\\\data\\\\train\\\\Pod\\\\Pod7.txt',\n",
       " 'C:\\\\_Repositories\\\\Kamaz_Control\\\\data\\\\train\\\\Pod\\\\Pod8.txt',\n",
       " 'C:\\\\_Repositories\\\\Kamaz_Control\\\\data\\\\train\\\\Pod\\\\Pod9.txt',\n",
       " 'C:\\\\_Repositories\\\\Kamaz_Control\\\\data\\\\train\\\\Turb\\\\Turb1.txt',\n",
       " 'C:\\\\_Repositories\\\\Kamaz_Control\\\\data\\\\train\\\\Turb\\\\Turb10.txt',\n",
       " 'C:\\\\_Repositories\\\\Kamaz_Control\\\\data\\\\train\\\\Turb\\\\Turb2.txt',\n",
       " 'C:\\\\_Repositories\\\\Kamaz_Control\\\\data\\\\train\\\\Turb\\\\Turb3.txt',\n",
       " 'C:\\\\_Repositories\\\\Kamaz_Control\\\\data\\\\train\\\\Turb\\\\Turb4.txt',\n",
       " 'C:\\\\_Repositories\\\\Kamaz_Control\\\\data\\\\train\\\\Turb\\\\Turb5.txt',\n",
       " 'C:\\\\_Repositories\\\\Kamaz_Control\\\\data\\\\train\\\\Turb\\\\Turb6.txt',\n",
       " 'C:\\\\_Repositories\\\\Kamaz_Control\\\\data\\\\train\\\\Turb\\\\Turb7.txt',\n",
       " 'C:\\\\_Repositories\\\\Kamaz_Control\\\\data\\\\train\\\\Turb\\\\Turb8.txt',\n",
       " 'C:\\\\_Repositories\\\\Kamaz_Control\\\\data\\\\train\\\\Turb\\\\Turb9.txt',\n",
       " 'C:\\\\_Repositories\\\\Kamaz_Control\\\\data\\\\train\\\\Turbokompressor\\\\turbokompressor1.txt',\n",
       " 'C:\\\\_Repositories\\\\Kamaz_Control\\\\data\\\\train\\\\Turbokompressor\\\\turbokompressor10.txt',\n",
       " 'C:\\\\_Repositories\\\\Kamaz_Control\\\\data\\\\train\\\\Turbokompressor\\\\turbokompressor2.txt',\n",
       " 'C:\\\\_Repositories\\\\Kamaz_Control\\\\data\\\\train\\\\Turbokompressor\\\\turbokompressor3.txt',\n",
       " 'C:\\\\_Repositories\\\\Kamaz_Control\\\\data\\\\train\\\\Turbokompressor\\\\turbokompressor4.txt',\n",
       " 'C:\\\\_Repositories\\\\Kamaz_Control\\\\data\\\\train\\\\Turbokompressor\\\\turbokompressor5.txt',\n",
       " 'C:\\\\_Repositories\\\\Kamaz_Control\\\\data\\\\train\\\\Turbokompressor\\\\turbokompressor6.txt',\n",
       " 'C:\\\\_Repositories\\\\Kamaz_Control\\\\data\\\\train\\\\Turbokompressor\\\\turbokompressor7.txt',\n",
       " 'C:\\\\_Repositories\\\\Kamaz_Control\\\\data\\\\train\\\\Turbokompressor\\\\turbokompressor8.txt',\n",
       " 'C:\\\\_Repositories\\\\Kamaz_Control\\\\data\\\\train\\\\Turbokompressor\\\\turbokompressor9.txt',\n",
       " 'C:\\\\_Repositories\\\\Kamaz_Control\\\\data\\\\train\\\\Usel\\\\usel1.txt',\n",
       " 'C:\\\\_Repositories\\\\Kamaz_Control\\\\data\\\\train\\\\Usel\\\\usel10.txt',\n",
       " 'C:\\\\_Repositories\\\\Kamaz_Control\\\\data\\\\train\\\\Usel\\\\usel2.txt',\n",
       " 'C:\\\\_Repositories\\\\Kamaz_Control\\\\data\\\\train\\\\Usel\\\\usel3.txt',\n",
       " 'C:\\\\_Repositories\\\\Kamaz_Control\\\\data\\\\train\\\\Usel\\\\usel4.txt',\n",
       " 'C:\\\\_Repositories\\\\Kamaz_Control\\\\data\\\\train\\\\Usel\\\\usel5.txt',\n",
       " 'C:\\\\_Repositories\\\\Kamaz_Control\\\\data\\\\train\\\\Usel\\\\usel6.txt',\n",
       " 'C:\\\\_Repositories\\\\Kamaz_Control\\\\data\\\\train\\\\Usel\\\\usel7.txt',\n",
       " 'C:\\\\_Repositories\\\\Kamaz_Control\\\\data\\\\train\\\\Usel\\\\usel8.txt',\n",
       " 'C:\\\\_Repositories\\\\Kamaz_Control\\\\data\\\\train\\\\Usel\\\\usel9.txt',\n",
       " 'C:\\\\_Repositories\\\\Kamaz_Control\\\\data\\\\train\\\\Val\\\\val1.txt',\n",
       " 'C:\\\\_Repositories\\\\Kamaz_Control\\\\data\\\\train\\\\Val\\\\val10.txt',\n",
       " 'C:\\\\_Repositories\\\\Kamaz_Control\\\\data\\\\train\\\\Val\\\\val2.txt',\n",
       " 'C:\\\\_Repositories\\\\Kamaz_Control\\\\data\\\\train\\\\Val\\\\val3.txt',\n",
       " 'C:\\\\_Repositories\\\\Kamaz_Control\\\\data\\\\train\\\\Val\\\\val4.txt',\n",
       " 'C:\\\\_Repositories\\\\Kamaz_Control\\\\data\\\\train\\\\Val\\\\val5.txt',\n",
       " 'C:\\\\_Repositories\\\\Kamaz_Control\\\\data\\\\train\\\\Val\\\\val6.txt',\n",
       " 'C:\\\\_Repositories\\\\Kamaz_Control\\\\data\\\\train\\\\Val\\\\val7.txt',\n",
       " 'C:\\\\_Repositories\\\\Kamaz_Control\\\\data\\\\train\\\\Val\\\\val8.txt',\n",
       " 'C:\\\\_Repositories\\\\Kamaz_Control\\\\data\\\\train\\\\Val\\\\val9.txt']"
      ]
     },
     "execution_count": 5,
     "metadata": {},
     "output_type": "execute_result"
    }
   ],
   "source": [
    "txt_files"
   ]
  },
  {
   "cell_type": "code",
   "execution_count": 6,
   "metadata": {},
   "outputs": [],
   "source": [
    "# преобразование файла с разметкой для работы ECO-трекера\n",
    "for path_to_txt in txt_files:\n",
    "    with open(path_to_txt, 'r') as f:\n",
    "        f.readline()\n",
    "        data = f.readline()\n",
    "        x1, y1, x2, y2 = map(int, data.split())\n",
    "        dx = x2-x1\n",
    "        dy = y2-y1\n",
    "    with open(path_to_txt, 'w') as f:\n",
    "        s = '{} {} {} {}'.format(x1, y1, dx, dy)\n",
    "        f.write(s)"
   ]
  },
  {
   "cell_type": "code",
   "execution_count": null,
   "metadata": {},
   "outputs": [],
   "source": []
  }
 ],
 "metadata": {
  "kernelspec": {
   "display_name": "Python 3",
   "language": "python",
   "name": "python3"
  },
  "language_info": {
   "codemirror_mode": {
    "name": "ipython",
    "version": 3
   },
   "file_extension": ".py",
   "mimetype": "text/x-python",
   "name": "python",
   "nbconvert_exporter": "python",
   "pygments_lexer": "ipython3",
   "version": "3.6.4"
  }
 },
 "nbformat": 4,
 "nbformat_minor": 2
}
